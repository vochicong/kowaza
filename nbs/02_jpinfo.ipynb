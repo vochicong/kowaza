{
 "cells": [
  {
   "cell_type": "code",
   "execution_count": null,
   "metadata": {},
   "outputs": [],
   "source": [
    "# default_exp jpinfo"
   ]
  },
  {
   "cell_type": "markdown",
   "metadata": {},
   "source": [
    "# Japan prefectures\n",
    "\n",
    "日本の都道府県名称と都道府県コード（JIS X 0401-1973）を変換するユーティリティは\n",
    "[jp_pref](https://github.com/vochicong/jp-pref)に切り出した。"
   ]
  }
 ],
 "metadata": {
  "kernelspec": {
   "display_name": "Python 3",
   "language": "python",
   "name": "python3"
  }
 },
 "nbformat": 4,
 "nbformat_minor": 4
}
