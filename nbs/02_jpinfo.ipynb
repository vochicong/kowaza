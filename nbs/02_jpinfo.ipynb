{
 "cells": [
  {
   "cell_type": "code",
   "execution_count": null,
   "metadata": {},
   "outputs": [],
   "source": [
    "# default_exp jpinfo"
   ]
  },
  {
   "cell_type": "markdown",
   "metadata": {},
   "source": [
    "# Japan prefectures\n",
    "\n"
   ]
  },
  {
   "cell_type": "markdown",
   "metadata": {},
   "source": [
    "日本の都道府県名称と都道府県コード（JIS X 0401-1973）を変換するユーティリティは\n",
    "[jp_pref](https://github.com/vochicong/jp-pref)に切り出した。"
   ]
  }
 ],
 "metadata": {
  "kernelspec": {
   "display_name": "Python 3.8.8 64-bit ('kowaza': conda)",
   "name": "python388jvsc74a57bd0e9bbe22870c2f43bd8053e1c81aebf9203cf51814ee1f304c1715f74a9858a7d"
  }
 },
 "nbformat": 4,
 "nbformat_minor": 4
}
