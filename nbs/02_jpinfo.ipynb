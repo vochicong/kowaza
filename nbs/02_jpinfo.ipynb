{
 "cells": [
  {
   "cell_type": "code",
   "execution_count": null,
   "metadata": {},
   "outputs": [],
   "source": [
    "# default_exp jpinfo"
   ]
  },
  {
   "cell_type": "markdown",
   "metadata": {},
   "source": [
    "# Japan info\n",
    "\n",
    "日本の情報\n",
    "\n",
    "- JIS X 0401-1973 都道府県コード\n",
    "\n",
    "Reference\n",
    "\n",
    "- [都道府県コード及び市区町村コード(総務省 電子自治体)](http://www.soumu.go.jp/denshijiti/code.html)\n",
    "- [JIS X 0401 JSON API](https://madefor.github.io/jisx0401/)"
   ]
  },
  {
   "cell_type": "code",
   "execution_count": null,
   "metadata": {},
   "outputs": [],
   "source": [
    "#hide\n",
    "%load_ext autoreload\n",
    "%autoreload 2"
   ]
  },
  {
   "cell_type": "code",
   "execution_count": null,
   "metadata": {},
   "outputs": [],
   "source": [
    "from nbdev.showdoc import *\n",
    "from fastcore.dispatch import typedispatch"
   ]
  },
  {
   "cell_type": "markdown",
   "metadata": {},
   "source": [
    "## 都道府県リスト"
   ]
  },
  {
   "cell_type": "markdown",
   "metadata": {},
   "source": [
    "都道府県の正式名称"
   ]
  },
  {
   "cell_type": "code",
   "execution_count": null,
   "metadata": {},
   "outputs": [],
   "source": [
    "# exports\n",
    "prefectures = [\n",
    "    \"北海道\",\n",
    "    \"青森県\",\n",
    "    \"岩手県\",\n",
    "    \"宮城県\",\n",
    "    \"秋田県\",\n",
    "    \"山形県\",\n",
    "    \"福島県\",\n",
    "    \"茨城県\",\n",
    "    \"栃木県\",\n",
    "    \"群馬県\",\n",
    "    \"埼玉県\",\n",
    "    \"千葉県\",\n",
    "    \"東京都\",\n",
    "    \"神奈川県\",\n",
    "    \"新潟県\",\n",
    "    \"富山県\",\n",
    "    \"石川県\",\n",
    "    \"福井県\",\n",
    "    \"山梨県\",\n",
    "    \"長野県\",\n",
    "    \"岐阜県\",\n",
    "    \"静岡県\",\n",
    "    \"愛知県\",\n",
    "    \"三重県\",\n",
    "    \"滋賀県\",\n",
    "    \"京都府\",\n",
    "    \"大阪府\",\n",
    "    \"兵庫県\",\n",
    "    \"奈良県\",\n",
    "    \"和歌山県\",\n",
    "    \"鳥取県\",\n",
    "    \"島根県\",\n",
    "    \"岡山県\",\n",
    "    \"広島県\",\n",
    "    \"山口県\",\n",
    "    \"徳島県\",\n",
    "    \"香川県\",\n",
    "    \"愛媛県\",\n",
    "    \"高知県\",\n",
    "    \"福岡県\",\n",
    "    \"佐賀県\",\n",
    "    \"長崎県\",\n",
    "    \"熊本県\",\n",
    "    \"大分県\",\n",
    "    \"宮崎県\",\n",
    "    \"鹿児島県\",\n",
    "    \"沖縄県\",\n",
    "]"
   ]
  },
  {
   "cell_type": "code",
   "execution_count": null,
   "metadata": {},
   "outputs": [
    {
     "data": {
      "text/plain": [
       "{'府', '県', '道', '都'}"
      ]
     },
     "execution_count": null,
     "metadata": {},
     "output_type": "execute_result"
    }
   ],
   "source": [
    "set([p[-1] for p in prefectures])"
   ]
  },
  {
   "cell_type": "code",
   "execution_count": null,
   "metadata": {},
   "outputs": [],
   "source": [
    "#export\n",
    "prefectures_short_names = [p[:-1] for p in prefectures]"
   ]
  },
  {
   "cell_type": "markdown",
   "metadata": {},
   "source": [
    "都道府県の略名"
   ]
  },
  {
   "cell_type": "code",
   "execution_count": null,
   "metadata": {},
   "outputs": [
    {
     "data": {
      "text/plain": [
       "['北海',\n",
       " '青森',\n",
       " '岩手',\n",
       " '宮城',\n",
       " '秋田',\n",
       " '山形',\n",
       " '福島',\n",
       " '茨城',\n",
       " '栃木',\n",
       " '群馬',\n",
       " '埼玉',\n",
       " '千葉',\n",
       " '東京',\n",
       " '神奈川',\n",
       " '新潟',\n",
       " '富山',\n",
       " '石川',\n",
       " '福井',\n",
       " '山梨',\n",
       " '長野',\n",
       " '岐阜',\n",
       " '静岡',\n",
       " '愛知',\n",
       " '三重',\n",
       " '滋賀',\n",
       " '京都',\n",
       " '大阪',\n",
       " '兵庫',\n",
       " '奈良',\n",
       " '和歌山',\n",
       " '鳥取',\n",
       " '島根',\n",
       " '岡山',\n",
       " '広島',\n",
       " '山口',\n",
       " '徳島',\n",
       " '香川',\n",
       " '愛媛',\n",
       " '高知',\n",
       " '福岡',\n",
       " '佐賀',\n",
       " '長崎',\n",
       " '熊本',\n",
       " '大分',\n",
       " '宮崎',\n",
       " '鹿児島',\n",
       " '沖縄']"
      ]
     },
     "execution_count": null,
     "metadata": {},
     "output_type": "execute_result"
    }
   ],
   "source": [
    "prefectures_short_names"
   ]
  },
  {
   "cell_type": "code",
   "execution_count": null,
   "metadata": {},
   "outputs": [],
   "source": [
    "#export\n",
    "prefectures_short2full = { s:f for s,f in zip(prefectures_short_names, prefectures) }"
   ]
  },
  {
   "cell_type": "markdown",
   "metadata": {},
   "source": [
    "都道府県の略名から正式名称へ変換する辞書"
   ]
  },
  {
   "cell_type": "code",
   "execution_count": null,
   "metadata": {},
   "outputs": [
    {
     "data": {
      "text/plain": [
       "{'北海': '北海道',\n",
       " '青森': '青森県',\n",
       " '岩手': '岩手県',\n",
       " '宮城': '宮城県',\n",
       " '秋田': '秋田県',\n",
       " '山形': '山形県',\n",
       " '福島': '福島県',\n",
       " '茨城': '茨城県',\n",
       " '栃木': '栃木県',\n",
       " '群馬': '群馬県',\n",
       " '埼玉': '埼玉県',\n",
       " '千葉': '千葉県',\n",
       " '東京': '東京都',\n",
       " '神奈川': '神奈川県',\n",
       " '新潟': '新潟県',\n",
       " '富山': '富山県',\n",
       " '石川': '石川県',\n",
       " '福井': '福井県',\n",
       " '山梨': '山梨県',\n",
       " '長野': '長野県',\n",
       " '岐阜': '岐阜県',\n",
       " '静岡': '静岡県',\n",
       " '愛知': '愛知県',\n",
       " '三重': '三重県',\n",
       " '滋賀': '滋賀県',\n",
       " '京都': '京都府',\n",
       " '大阪': '大阪府',\n",
       " '兵庫': '兵庫県',\n",
       " '奈良': '奈良県',\n",
       " '和歌山': '和歌山県',\n",
       " '鳥取': '鳥取県',\n",
       " '島根': '島根県',\n",
       " '岡山': '岡山県',\n",
       " '広島': '広島県',\n",
       " '山口': '山口県',\n",
       " '徳島': '徳島県',\n",
       " '香川': '香川県',\n",
       " '愛媛': '愛媛県',\n",
       " '高知': '高知県',\n",
       " '福岡': '福岡県',\n",
       " '佐賀': '佐賀県',\n",
       " '長崎': '長崎県',\n",
       " '熊本': '熊本県',\n",
       " '大分': '大分県',\n",
       " '宮崎': '宮崎県',\n",
       " '鹿児島': '鹿児島県',\n",
       " '沖縄': '沖縄県'}"
      ]
     },
     "execution_count": null,
     "metadata": {},
     "output_type": "execute_result"
    }
   ],
   "source": [
    "prefectures_short2full"
   ]
  },
  {
   "cell_type": "code",
   "execution_count": null,
   "metadata": {},
   "outputs": [],
   "source": [
    "#export\n",
    "prefectures_all_names = prefectures + prefectures_short_names"
   ]
  },
  {
   "cell_type": "markdown",
   "metadata": {},
   "source": [
    "都道府県の正式名称＋略名のすべて"
   ]
  },
  {
   "cell_type": "code",
   "execution_count": null,
   "metadata": {},
   "outputs": [
    {
     "data": {
      "text/plain": [
       "['北海道',\n",
       " '青森県',\n",
       " '岩手県',\n",
       " '宮城県',\n",
       " '秋田県',\n",
       " '山形県',\n",
       " '福島県',\n",
       " '茨城県',\n",
       " '栃木県',\n",
       " '群馬県',\n",
       " '埼玉県',\n",
       " '千葉県',\n",
       " '東京都',\n",
       " '神奈川県',\n",
       " '新潟県',\n",
       " '富山県',\n",
       " '石川県',\n",
       " '福井県',\n",
       " '山梨県',\n",
       " '長野県',\n",
       " '岐阜県',\n",
       " '静岡県',\n",
       " '愛知県',\n",
       " '三重県',\n",
       " '滋賀県',\n",
       " '京都府',\n",
       " '大阪府',\n",
       " '兵庫県',\n",
       " '奈良県',\n",
       " '和歌山県',\n",
       " '鳥取県',\n",
       " '島根県',\n",
       " '岡山県',\n",
       " '広島県',\n",
       " '山口県',\n",
       " '徳島県',\n",
       " '香川県',\n",
       " '愛媛県',\n",
       " '高知県',\n",
       " '福岡県',\n",
       " '佐賀県',\n",
       " '長崎県',\n",
       " '熊本県',\n",
       " '大分県',\n",
       " '宮崎県',\n",
       " '鹿児島県',\n",
       " '沖縄県',\n",
       " '北海',\n",
       " '青森',\n",
       " '岩手',\n",
       " '宮城',\n",
       " '秋田',\n",
       " '山形',\n",
       " '福島',\n",
       " '茨城',\n",
       " '栃木',\n",
       " '群馬',\n",
       " '埼玉',\n",
       " '千葉',\n",
       " '東京',\n",
       " '神奈川',\n",
       " '新潟',\n",
       " '富山',\n",
       " '石川',\n",
       " '福井',\n",
       " '山梨',\n",
       " '長野',\n",
       " '岐阜',\n",
       " '静岡',\n",
       " '愛知',\n",
       " '三重',\n",
       " '滋賀',\n",
       " '京都',\n",
       " '大阪',\n",
       " '兵庫',\n",
       " '奈良',\n",
       " '和歌山',\n",
       " '鳥取',\n",
       " '島根',\n",
       " '岡山',\n",
       " '広島',\n",
       " '山口',\n",
       " '徳島',\n",
       " '香川',\n",
       " '愛媛',\n",
       " '高知',\n",
       " '福岡',\n",
       " '佐賀',\n",
       " '長崎',\n",
       " '熊本',\n",
       " '大分',\n",
       " '宮崎',\n",
       " '鹿児島',\n",
       " '沖縄']"
      ]
     },
     "execution_count": null,
     "metadata": {},
     "output_type": "execute_result"
    }
   ],
   "source": [
    "prefectures_all_names"
   ]
  },
  {
   "cell_type": "markdown",
   "metadata": {},
   "source": [
    "## 都道府県の辞書＜コード→名前＞"
   ]
  },
  {
   "cell_type": "code",
   "execution_count": null,
   "metadata": {},
   "outputs": [],
   "source": [
    "#export\n",
    "prefectures_code2name = {\n",
    "    code: name\n",
    "    for name, code in zip(prefectures, range(1, 1 + len(prefectures)))\n",
    "}"
   ]
  },
  {
   "cell_type": "code",
   "execution_count": null,
   "metadata": {},
   "outputs": [
    {
     "data": {
      "text/plain": [
       "{1: '北海道',\n",
       " 2: '青森県',\n",
       " 3: '岩手県',\n",
       " 4: '宮城県',\n",
       " 5: '秋田県',\n",
       " 6: '山形県',\n",
       " 7: '福島県',\n",
       " 8: '茨城県',\n",
       " 9: '栃木県',\n",
       " 10: '群馬県',\n",
       " 11: '埼玉県',\n",
       " 12: '千葉県',\n",
       " 13: '東京都',\n",
       " 14: '神奈川県',\n",
       " 15: '新潟県',\n",
       " 16: '富山県',\n",
       " 17: '石川県',\n",
       " 18: '福井県',\n",
       " 19: '山梨県',\n",
       " 20: '長野県',\n",
       " 21: '岐阜県',\n",
       " 22: '静岡県',\n",
       " 23: '愛知県',\n",
       " 24: '三重県',\n",
       " 25: '滋賀県',\n",
       " 26: '京都府',\n",
       " 27: '大阪府',\n",
       " 28: '兵庫県',\n",
       " 29: '奈良県',\n",
       " 30: '和歌山県',\n",
       " 31: '鳥取県',\n",
       " 32: '島根県',\n",
       " 33: '岡山県',\n",
       " 34: '広島県',\n",
       " 35: '山口県',\n",
       " 36: '徳島県',\n",
       " 37: '香川県',\n",
       " 38: '愛媛県',\n",
       " 39: '高知県',\n",
       " 40: '福岡県',\n",
       " 41: '佐賀県',\n",
       " 42: '長崎県',\n",
       " 43: '熊本県',\n",
       " 44: '大分県',\n",
       " 45: '宮崎県',\n",
       " 46: '鹿児島県',\n",
       " 47: '沖縄県'}"
      ]
     },
     "execution_count": null,
     "metadata": {},
     "output_type": "execute_result"
    }
   ],
   "source": [
    "prefectures_code2name"
   ]
  },
  {
   "cell_type": "code",
   "execution_count": null,
   "metadata": {},
   "outputs": [],
   "source": [
    "assert prefectures == list(prefectures_code2name.values())"
   ]
  },
  {
   "cell_type": "markdown",
   "metadata": {},
   "source": [
    "## 都道府県の辞書＜名前→コード＞"
   ]
  },
  {
   "cell_type": "code",
   "execution_count": null,
   "metadata": {},
   "outputs": [],
   "source": [
    "#exporti\n",
    "_prefectures_name2code = {\n",
    "    name: code\n",
    "    for name, code in zip(prefectures, range(1, 1 + len(prefectures)))\n",
    "}"
   ]
  },
  {
   "cell_type": "code",
   "execution_count": null,
   "metadata": {},
   "outputs": [],
   "source": [
    "assert prefectures == list(_prefectures_name2code.keys())"
   ]
  },
  {
   "cell_type": "code",
   "execution_count": null,
   "metadata": {},
   "outputs": [],
   "source": [
    "# export\n",
    "prefectures_name2code = {\n",
    "    **_prefectures_name2code,\n",
    "    **{\n",
    "        sn: _prefectures_name2code[prefectures_short2full[sn]]\n",
    "        for sn in prefectures_short_names\n",
    "    },\n",
    "}"
   ]
  },
  {
   "cell_type": "code",
   "execution_count": null,
   "metadata": {},
   "outputs": [
    {
     "data": {
      "text/plain": [
       "{'北海道': 1,\n",
       " '青森県': 2,\n",
       " '岩手県': 3,\n",
       " '宮城県': 4,\n",
       " '秋田県': 5,\n",
       " '山形県': 6,\n",
       " '福島県': 7,\n",
       " '茨城県': 8,\n",
       " '栃木県': 9,\n",
       " '群馬県': 10,\n",
       " '埼玉県': 11,\n",
       " '千葉県': 12,\n",
       " '東京都': 13,\n",
       " '神奈川県': 14,\n",
       " '新潟県': 15,\n",
       " '富山県': 16,\n",
       " '石川県': 17,\n",
       " '福井県': 18,\n",
       " '山梨県': 19,\n",
       " '長野県': 20,\n",
       " '岐阜県': 21,\n",
       " '静岡県': 22,\n",
       " '愛知県': 23,\n",
       " '三重県': 24,\n",
       " '滋賀県': 25,\n",
       " '京都府': 26,\n",
       " '大阪府': 27,\n",
       " '兵庫県': 28,\n",
       " '奈良県': 29,\n",
       " '和歌山県': 30,\n",
       " '鳥取県': 31,\n",
       " '島根県': 32,\n",
       " '岡山県': 33,\n",
       " '広島県': 34,\n",
       " '山口県': 35,\n",
       " '徳島県': 36,\n",
       " '香川県': 37,\n",
       " '愛媛県': 38,\n",
       " '高知県': 39,\n",
       " '福岡県': 40,\n",
       " '佐賀県': 41,\n",
       " '長崎県': 42,\n",
       " '熊本県': 43,\n",
       " '大分県': 44,\n",
       " '宮崎県': 45,\n",
       " '鹿児島県': 46,\n",
       " '沖縄県': 47,\n",
       " '北海': 1,\n",
       " '青森': 2,\n",
       " '岩手': 3,\n",
       " '宮城': 4,\n",
       " '秋田': 5,\n",
       " '山形': 6,\n",
       " '福島': 7,\n",
       " '茨城': 8,\n",
       " '栃木': 9,\n",
       " '群馬': 10,\n",
       " '埼玉': 11,\n",
       " '千葉': 12,\n",
       " '東京': 13,\n",
       " '神奈川': 14,\n",
       " '新潟': 15,\n",
       " '富山': 16,\n",
       " '石川': 17,\n",
       " '福井': 18,\n",
       " '山梨': 19,\n",
       " '長野': 20,\n",
       " '岐阜': 21,\n",
       " '静岡': 22,\n",
       " '愛知': 23,\n",
       " '三重': 24,\n",
       " '滋賀': 25,\n",
       " '京都': 26,\n",
       " '大阪': 27,\n",
       " '兵庫': 28,\n",
       " '奈良': 29,\n",
       " '和歌山': 30,\n",
       " '鳥取': 31,\n",
       " '島根': 32,\n",
       " '岡山': 33,\n",
       " '広島': 34,\n",
       " '山口': 35,\n",
       " '徳島': 36,\n",
       " '香川': 37,\n",
       " '愛媛': 38,\n",
       " '高知': 39,\n",
       " '福岡': 40,\n",
       " '佐賀': 41,\n",
       " '長崎': 42,\n",
       " '熊本': 43,\n",
       " '大分': 44,\n",
       " '宮崎': 45,\n",
       " '鹿児島': 46,\n",
       " '沖縄': 47}"
      ]
     },
     "execution_count": null,
     "metadata": {},
     "output_type": "execute_result"
    }
   ],
   "source": [
    "prefectures_name2code"
   ]
  },
  {
   "cell_type": "markdown",
   "metadata": {},
   "source": [
    "## 変換メソッド"
   ]
  },
  {
   "cell_type": "code",
   "execution_count": null,
   "metadata": {},
   "outputs": [],
   "source": [
    "#export\n",
    "import pandas as pd\n",
    "from typing import List\n",
    "from fastcore.dispatch import typedispatch\n",
    "\n",
    "@typedispatch\n",
    "def prefecture2code(name: str) -> int:\n",
    "    return prefectures_name2code[name]\n",
    "\n",
    "@typedispatch\n",
    "def prefecture2code(s: pd.Series) -> pd.Series:\n",
    "    return s.map(prefectures_name2code)\n",
    "\n",
    "@typedispatch\n",
    "def prefecture2code(arr: List) -> List:\n",
    "    return [prefectures_name2code[e] for e in arr]"
   ]
  },
  {
   "cell_type": "code",
   "execution_count": null,
   "metadata": {},
   "outputs": [],
   "source": [
    "assert prefecture2code(\"東京都\") == 13"
   ]
  },
  {
   "cell_type": "code",
   "execution_count": null,
   "metadata": {},
   "outputs": [
    {
     "data": {
      "text/plain": [
       "0      1\n",
       "1      2\n",
       "2      3\n",
       "3      4\n",
       "4      5\n",
       "5      6\n",
       "6      7\n",
       "7      8\n",
       "8      9\n",
       "9     10\n",
       "10    11\n",
       "11    12\n",
       "12    13\n",
       "13    14\n",
       "14    15\n",
       "15    16\n",
       "16    17\n",
       "17    18\n",
       "18    19\n",
       "19    20\n",
       "20    21\n",
       "21    22\n",
       "22    23\n",
       "23    24\n",
       "24    25\n",
       "25    26\n",
       "26    27\n",
       "27    28\n",
       "28    29\n",
       "29    30\n",
       "30    31\n",
       "31    32\n",
       "32    33\n",
       "33    34\n",
       "34    35\n",
       "35    36\n",
       "36    37\n",
       "37    38\n",
       "38    39\n",
       "39    40\n",
       "40    41\n",
       "41    42\n",
       "42    43\n",
       "43    44\n",
       "44    45\n",
       "45    46\n",
       "46    47\n",
       "dtype: int64"
      ]
     },
     "execution_count": null,
     "metadata": {},
     "output_type": "execute_result"
    }
   ],
   "source": [
    "assert prefecture2code(pd.Series(prefectures)).to_list() == list(range(1, len(prefectures)+1))\n",
    "prefecture2code(pd.Series(prefectures))"
   ]
  },
  {
   "cell_type": "code",
   "execution_count": null,
   "metadata": {},
   "outputs": [
    {
     "data": {
      "text/plain": [
       "[1,\n",
       " 2,\n",
       " 3,\n",
       " 4,\n",
       " 5,\n",
       " 6,\n",
       " 7,\n",
       " 8,\n",
       " 9,\n",
       " 10,\n",
       " 11,\n",
       " 12,\n",
       " 13,\n",
       " 14,\n",
       " 15,\n",
       " 16,\n",
       " 17,\n",
       " 18,\n",
       " 19,\n",
       " 20,\n",
       " 21,\n",
       " 22,\n",
       " 23,\n",
       " 24,\n",
       " 25,\n",
       " 26,\n",
       " 27,\n",
       " 28,\n",
       " 29,\n",
       " 30,\n",
       " 31,\n",
       " 32,\n",
       " 33,\n",
       " 34,\n",
       " 35,\n",
       " 36,\n",
       " 37,\n",
       " 38,\n",
       " 39,\n",
       " 40,\n",
       " 41,\n",
       " 42,\n",
       " 43,\n",
       " 44,\n",
       " 45,\n",
       " 46,\n",
       " 47]"
      ]
     },
     "execution_count": null,
     "metadata": {},
     "output_type": "execute_result"
    }
   ],
   "source": [
    "assert prefecture2code(prefectures) == list(range(1, len(prefectures)+1))\n",
    "prefecture2code(prefectures)"
   ]
  },
  {
   "cell_type": "code",
   "execution_count": null,
   "metadata": {},
   "outputs": [
    {
     "name": "stdout",
     "output_type": "stream",
     "text": [
      "Converted 00_core.ipynb.\n",
      "Converted 01_shap.ipynb.\n",
      "Converted 02_jpinfo.ipynb.\n",
      "Converted index.ipynb.\n"
     ]
    }
   ],
   "source": [
    "#hide\n",
    "from nbdev.export import notebook2script\n",
    "notebook2script()"
   ]
  },
  {
   "cell_type": "code",
   "execution_count": null,
   "metadata": {},
   "outputs": [
    {
     "name": "stdout",
     "output_type": "stream",
     "text": [
      "converting: /home/congvc2/s/kowaza/02_jpinfo.ipynb\n"
     ]
    }
   ],
   "source": [
    "#hide\n",
    "from nbdev.export2html import notebook2html\n",
    "notebook2html()"
   ]
  }
 ],
 "metadata": {
  "kernelspec": {
   "display_name": "Python 3",
   "language": "python",
   "name": "python3"
  }
 },
 "nbformat": 4,
 "nbformat_minor": 4
}
