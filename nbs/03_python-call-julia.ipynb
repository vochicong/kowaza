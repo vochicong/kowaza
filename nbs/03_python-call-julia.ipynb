{
 "cells": [
  {
   "cell_type": "markdown",
   "id": "blond-comparative",
   "metadata": {},
   "source": [
    "# Python calls Julia\n",
    "\n",
    "You can use Julia in a Python notebook after installing a pip package.\n",
    "\n",
    "    pip install julia\n",
    "\n",
    "Actually, Julia and Python can share memory in a proper setting.\n",
    "See https://blog.jupyter.org/i-python-you-r-we-julia-baf064ca1fb6."
   ]
  },
  {
   "cell_type": "code",
   "execution_count": null,
   "id": "amateur-parade",
   "metadata": {},
   "outputs": [],
   "source": [
    "from julia.api import Julia\n",
    "jl = Julia(compiled_modules=False)"
   ]
  },
  {
   "cell_type": "code",
   "execution_count": null,
   "id": "introductory-trailer",
   "metadata": {},
   "outputs": [
    {
     "name": "stdout",
     "output_type": "stream",
     "text": [
      "Initializing Julia interpreter. This may take some time...\n"
     ]
    }
   ],
   "source": [
    "%load_ext julia.magic"
   ]
  },
  {
   "cell_type": "code",
   "execution_count": null,
   "id": "higher-ferry",
   "metadata": {},
   "outputs": [
    {
     "name": "stdout",
     "output_type": "stream",
     "text": [
      "Hello there"
     ]
    }
   ],
   "source": [
    "%%julia\n",
    "function hello(name)\n",
    "    println(\"Hello \", name)\n",
    "end\n",
    "hello(\"there\")"
   ]
  }
 ],
 "metadata": {
  "kernelspec": {
   "display_name": "Python 3.8.5 64-bit ('nbdev': conda)",
   "metadata": {
    "interpreter": {
     "hash": "1fbc2b37cf85b14139def286a6619d397efe8ca76189536e364f9d7bec3d93d3"
    }
   },
   "name": "python3"
  }
 },
 "nbformat": 4,
 "nbformat_minor": 5
}
