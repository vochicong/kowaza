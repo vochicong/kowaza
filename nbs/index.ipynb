{
 "cells": [
  {
   "cell_type": "code",
   "execution_count": null,
   "metadata": {},
   "outputs": [],
   "source": [
    "#hide\n",
    "# This file will become your README and also the index of your documentation.\n",
    "from kowaza.core import *"
   ]
  },
  {
   "cell_type": "code",
   "execution_count": null,
   "metadata": {},
   "outputs": [
    {
     "name": "stdout",
     "output_type": "stream",
     "text": [
      "Converted 00_core.ipynb.\n",
      "Converted 01_shap.ipynb.\n",
      "Converted 02_jpinfo.ipynb.\n",
      "Converted 03_python-call-julia.ipynb.\n",
      "Converted 10-proba-calib.ipynb.\n",
      "Converted 15-autogluon.ipynb.\n",
      "Converted 20-metrics.ipynb.\n",
      "Converted index.ipynb.\n"
     ]
    }
   ],
   "source": [
    "# hide\n",
    "from nbdev.export import notebook2script\n",
    "\n",
    "notebook2script()"
   ]
  },
  {
   "cell_type": "markdown",
   "metadata": {},
   "source": [
    "sklearn.linear_model.LogisticRegression¶\n",
    "# kowaza 小技\n",
    "\n",
    "> Little tips & tricks for machine learning and AI development."
   ]
  },
  {
   "cell_type": "markdown",
   "metadata": {},
   "source": [
    "kowazaに大したものは含まれていません。pipパッケージを公開してみたいのと、プロジェクト間でコピペの手間を減らすためにちょっとしたツールやヒントをより集めました。"
   ]
  },
  {
   "cell_type": "markdown",
   "metadata": {},
   "source": [
    "## インストール"
   ]
  },
  {
   "cell_type": "markdown",
   "metadata": {},
   "source": [
    "`pip install kowaza`"
   ]
  },
  {
   "cell_type": "markdown",
   "metadata": {},
   "source": [
    "## 開発環境"
   ]
  },
  {
   "cell_type": "markdown",
   "metadata": {},
   "source": [
    "Install packages\n",
    "\n",
    "    mamba env update -f kowaza-conda.yml -n kowaza\n",
    "    conda activate kowaza\n",
    "    python -m ipykernel install --user --name=kowaza\n",
    "    jupyter labextension install jupyterlab-plotly\n",
    "    pip install ."
   ]
  },
  {
   "cell_type": "code",
   "execution_count": null,
   "metadata": {},
   "outputs": [],
   "source": []
  }
 ],
 "metadata": {
  "kernelspec": {
   "display_name": "Python 3",
   "language": "python",
   "name": "python3"
  }
 },
 "nbformat": 4,
 "nbformat_minor": 4
}
