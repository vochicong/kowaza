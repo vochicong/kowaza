{
 "cells": [
  {
   "cell_type": "markdown",
   "metadata": {},
   "source": [
    "# Julia\n",
    "\n",
    "Looks like Python/Ruby, runs like C."
   ]
  },
  {
   "cell_type": "code",
   "execution_count": null,
   "metadata": {},
   "outputs": [
    {
     "name": "stdout",
     "output_type": "stream",
     "text": [
      "Hello World\n"
     ]
    }
   ],
   "source": [
    "function hello(name)\n",
    "    println(\"Hello \", name)\n",
    "end\n",
    "hello(\"World\")"
   ]
  },
  {
   "cell_type": "markdown",
   "metadata": {},
   "source": [
    "## Sample structs and functions\n",
    "\n",
    "Based on a section in the book [Think Julia](https://benlauwens.github.io/ThinkJulia.jl/latest/book.html#time)."
   ]
  },
  {
   "cell_type": "code",
   "execution_count": null,
   "metadata": {},
   "outputs": [
    {
     "data": {
      "text/plain": "MyTime(11, 59, 30)"
     },
     "execution_count": null,
     "metadata": {},
     "output_type": "execute_result"
    }
   ],
   "source": [
    "struct MyTime\n",
    "    hour\n",
    "    minute\n",
    "    second\n",
    "end\n",
    "time = MyTime(11, 59, 30)"
   ]
  },
  {
   "cell_type": "code",
   "execution_count": null,
   "metadata": {},
   "outputs": [
    {
     "data": {
      "text/plain": "43170"
     },
     "execution_count": null,
     "metadata": {},
     "output_type": "execute_result"
    }
   ],
   "source": [
    "function time2int(time)\n",
    "    time.hour * 60 * 60 + time.minute * 60 + time.second\n",
    "end\n",
    "time2int(time)"
   ]
  },
  {
   "cell_type": "code",
   "execution_count": null,
   "metadata": {},
   "outputs": [
    {
     "data": {
      "text/plain": "5-element Array{Int8,1}:\n 0\n 0\n 0\n 0\n 0"
     },
     "execution_count": null,
     "metadata": {},
     "output_type": "execute_result"
    }
   ],
   "source": [
    "vcat(zeros(Int8, 2), zeros(Int8, 3))"
   ]
  },
  {
   "cell_type": "markdown",
   "metadata": {},
   "source": [
    "There is a standard Julia method to convert integers between bases."
   ]
  },
  {
   "cell_type": "code",
   "execution_count": null,
   "metadata": {},
   "outputs": [
    {
     "data": {
      "text/plain": "1-element Array{Int64,1}:\n 30"
     },
     "execution_count": null,
     "metadata": {},
     "output_type": "execute_result"
    }
   ],
   "source": [
    "digits(30, base=60)"
   ]
  },
  {
   "cell_type": "code",
   "execution_count": null,
   "metadata": {},
   "outputs": [
    {
     "name": "stdout",
     "output_type": "stream",
     "text": [
      "[30, 59, 11]\n"
     ]
    },
    {
     "data": {
      "text/plain": "MyTime(11, 59, 30)"
     },
     "execution_count": null,
     "metadata": {},
     "output_type": "execute_result"
    }
   ],
   "source": [
    "function int2time(seconds)\n",
    "    time_digits = digits(seconds, base=60)\n",
    "    println(time_digits)\n",
    "    if length(time_digits) < 3\n",
    "        time_digits = vcat(zeros(Int8, 3 - length(time_digits)), time_digits)\n",
    "        println(time_digits)\n",
    "    end\n",
    "    second, minute, hour = time_digits\n",
    "    MyTime(hour, minute, second)\n",
    "end\n",
    "int2time(time2int(time))"
   ]
  },
  {
   "cell_type": "code",
   "execution_count": null,
   "metadata": {},
   "outputs": [
    {
     "name": "stdout",
     "output_type": "stream",
     "text": [
      "[30]\n",
      "[0, 0, 30]\n"
     ]
    },
    {
     "data": {
      "text/plain": "MyTime(30, 0, 0)"
     },
     "execution_count": null,
     "metadata": {},
     "output_type": "execute_result"
    }
   ],
   "source": [
    "int2time(30)"
   ]
  }
 ],
 "metadata": {
  "kernelspec": {
   "display_name": "Julia 1.5.3",
   "language": "julia",
   "name": "julia-1.5"
  }
 },
 "nbformat": 4,
 "nbformat_minor": 2
}
