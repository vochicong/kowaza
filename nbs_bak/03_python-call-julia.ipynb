{
 "cells": [
  {
   "cell_type": "markdown",
   "metadata": {},
   "source": [
    "# Python calls Julia\n",
    "\n",
    "You can use Julia in a Python notebook after installing a pip package.\n",
    "\n",
    "    pip install julia\n",
    "\n",
    "Actually, Julia and Python can share memory in a proper setting.\n",
    "See https://blog.jupyter.org/i-python-you-r-we-julia-baf064ca1fb6."
   ]
  },
  {
   "cell_type": "code",
   "execution_count": null,
   "metadata": {},
   "outputs": [],
   "source": [
    "from julia.api import Julia\n",
    "jl = Julia(compiled_modules=False)"
   ]
  },
  {
   "cell_type": "code",
   "execution_count": null,
   "metadata": {},
   "outputs": [
    {
     "name": "stdout",
     "output_type": "stream",
     "text": [
      "Initializing Julia interpreter. This may take some time...\n"
     ]
    }
   ],
   "source": [
    "%load_ext julia.magic"
   ]
  },
  {
   "cell_type": "code",
   "execution_count": null,
   "metadata": {},
   "outputs": [
    {
     "name": "stdout",
     "output_type": "stream",
     "text": [
      "Hello there"
     ]
    }
   ],
   "source": [
    "%%julia\n",
    "function hello(name)\n",
    "    println(\"Hello \", name)\n",
    "end\n",
    "hello(\"there\")"
   ]
  }
 ],
 "metadata": {
  "kernelspec": {
   "display_name": "Python 3.8.6 64-bit ('shap': conda)",
   "name": "python386jvsc74a57bd0234628351933aed3e2c8f24fbef5167afc51bb6f1f12e579b5f889363801cedd"
  }
 },
 "nbformat": 4,
 "nbformat_minor": 5
}
